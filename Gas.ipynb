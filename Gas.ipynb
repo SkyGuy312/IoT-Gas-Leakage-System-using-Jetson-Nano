{
 "cells": [
  {
   "cell_type": "markdown",
   "metadata": {},
   "source": [
    "# ADC Initialization"
   ]
  },
  {
   "cell_type": "code",
   "execution_count": 16,
   "metadata": {},
   "outputs": [],
   "source": [
    "import RPi.GPIO as GPIO\n",
    "import time\n",
    "\n",
    "ADC_BOARD = {\"1\":7,\"2\":11,\"3\":12,\"4\":13,\"5\":15,\"6\":16,\"7\":18,\"8\":21,\"OUTEN\":22,\"ALE\":23}\n",
    "\n",
    "#Converting to BOARD pinout \n",
    "\n",
    "GPIO.setmode(GPIO.BOARD)\n",
    "\n",
    "#Initializing ADC:\n",
    "#1: setting input pins for Jetson Nano:\n",
    "GPIO.setup(ADC_BOARD[\"1\"],GPIO.IN)\n",
    "GPIO.setup(ADC_BOARD[\"2\"],GPIO.IN)\n",
    "GPIO.setup(ADC_BOARD[\"3\"],GPIO.IN)\n",
    "GPIO.setup(ADC_BOARD[\"4\"],GPIO.IN)\n",
    "GPIO.setup(ADC_BOARD[\"5\"],GPIO.IN)\n",
    "GPIO.setup(ADC_BOARD[\"6\"],GPIO.IN)\n",
    "GPIO.setup(ADC_BOARD[\"7\"],GPIO.IN)\n",
    "GPIO.setup(ADC_BOARD[\"8\"],GPIO.IN)\n",
    "GPIO.setup(ADC_BOARD[\"OUTEN\"],GPIO.OUT,initial=GPIO.HIGH)\n",
    "#_________________________________________________________#\n",
    "#2: Enable the Address Latch:\n",
    "GPIO.setup(ADC_BOARD[\"ALE\"],GPIO.OUT,initial=GPIO.LOW)\n",
    "GPIO.output(ADC_BOARD[\"ALE\"],GPIO.HIGH)\n",
    "time.sleep(0.5)\n",
    "GPIO.output(ADC_BOARD[\"ALE\"],GPIO.LOW)\n",
    "GPIO.output(ADC_BOARD[\"OUTEN\"],GPIO.HIGH)"
   ]
  },
  {
   "cell_type": "markdown",
   "metadata": {},
   "source": [
    "# Widget Creation"
   ]
  },
  {
   "cell_type": "code",
   "execution_count": 17,
   "metadata": {},
   "outputs": [],
   "source": [
    "import ipywidgets as wd\n",
    "\n",
    "#Creating Textbox widget\n",
    "Value_Widget = wd.BoundedIntText(description='ADC Values', disabled= True, max= 300)"
   ]
  },
  {
   "cell_type": "markdown",
   "metadata": {},
   "source": [
    "# Task Loop"
   ]
  },
  {
   "cell_type": "code",
   "execution_count": 19,
   "metadata": {},
   "outputs": [
    {
     "data": {
      "application/vnd.jupyter.widget-view+json": {
       "model_id": "bd499c370cf14c1f87d65a458e59c34d",
       "version_major": 2,
       "version_minor": 0
      },
      "text/plain": [
       "BoundedIntText(value=0, description='ADC Values', disabled=True, max=300)"
      ]
     },
     "metadata": {},
     "output_type": "display_data"
    },
    {
     "ename": "KeyboardInterrupt",
     "evalue": "",
     "output_type": "error",
     "traceback": [
      "\u001b[0;31m---------------------------------------------------------------------------\u001b[0m",
      "\u001b[0;31mKeyboardInterrupt\u001b[0m                         Traceback (most recent call last)",
      "\u001b[0;32m<ipython-input-19-eecbed727b38>\u001b[0m in \u001b[0;36m<module>\u001b[0;34m\u001b[0m\n\u001b[1;32m     19\u001b[0m         \u001b[0mReadings_list\u001b[0m \u001b[0;34m=\u001b[0m \u001b[0;34m[\u001b[0m\u001b[0;34m]\u001b[0m\u001b[0;34m\u001b[0m\u001b[0;34m\u001b[0m\u001b[0m\n\u001b[1;32m     20\u001b[0m     \u001b[0mReadings\u001b[0m \u001b[0;34m=\u001b[0m \u001b[0;34m\"\"\u001b[0m\u001b[0;34m\u001b[0m\u001b[0;34m\u001b[0m\u001b[0m\n\u001b[0;32m---> 21\u001b[0;31m     \u001b[0mtime\u001b[0m\u001b[0;34m.\u001b[0m\u001b[0msleep\u001b[0m \u001b[0;34m(\u001b[0m\u001b[0;36m1\u001b[0m\u001b[0;34m)\u001b[0m\u001b[0;34m\u001b[0m\u001b[0;34m\u001b[0m\u001b[0m\n\u001b[0m",
      "\u001b[0;31mKeyboardInterrupt\u001b[0m: "
     ]
    }
   ],
   "source": [
    "import urllib.request\n",
    "\n",
    "Readings = str()\n",
    "Readings_list = []\n",
    "count = 0\n",
    "display (Value_Widget)\n",
    "while True:\n",
    "    for i in range (1,9):\n",
    "        Readings+= str(GPIO.input(ADC_BOARD[f\"{i}\"]))\n",
    "    Readings = int (Readings,2)\n",
    "    Readings_list.append(Readings) #listing sensor readings\n",
    "    count +=1\n",
    "    if count/15 == 1:  # send data evry 15s\n",
    "        Readings = int(sum(Readings_list)/len(Readings_list)) #average reading in 15s \n",
    "        Value_Widget.value = Readings\n",
    "        # send data to thingspeak **change key to your channel**\n",
    "        urllib.request.urlopen('https://api.thingspeak.com/update?api_key=THNBS1IW86VIT438&field1=%d'%(Readings))\n",
    "        count = 0\n",
    "        Readings_list = []\n",
    "    Readings = \"\"\n",
    "    time.sleep (1)"
   ]
  },
  {
   "cell_type": "code",
   "execution_count": null,
   "metadata": {},
   "outputs": [],
   "source": []
  }
 ],
 "metadata": {
  "kernelspec": {
   "display_name": "Python 3",
   "language": "python",
   "name": "python3"
  },
  "language_info": {
   "codemirror_mode": {
    "name": "ipython",
    "version": 3
   },
   "file_extension": ".py",
   "mimetype": "text/x-python",
   "name": "python",
   "nbconvert_exporter": "python",
   "pygments_lexer": "ipython3",
   "version": "3.7.6"
  },
  "latex_envs": {
   "LaTeX_envs_menu_present": true,
   "autoclose": false,
   "autocomplete": true,
   "bibliofile": "biblio.bib",
   "cite_by": "apalike",
   "current_citInitial": 1,
   "eqLabelWithNumbers": true,
   "eqNumInitial": 1,
   "hotkeys": {
    "equation": "Ctrl-E",
    "itemize": "Ctrl-I"
   },
   "labels_anchors": false,
   "latex_user_defs": false,
   "report_style_numbering": false,
   "user_envs_cfg": false
  }
 },
 "nbformat": 4,
 "nbformat_minor": 2
}
